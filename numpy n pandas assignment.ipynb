{
 "cells": [
  {
   "cell_type": "markdown",
   "id": "98dc0c7b-d3b8-4f08-86a2-0d4d25933a57",
   "metadata": {},
   "source": [
    "#1.Create a numpy array containing the numbers from 1 to 10, and then reshape it to a 2x5 matrix.\n",
    "import numpy as np"
   ]
  },
  {
   "cell_type": "code",
   "execution_count": 17,
   "id": "db6eb6b1-47cd-4add-8971-fc9470454416",
   "metadata": {},
   "outputs": [],
   "source": [
    "arr = np.arange(1,11)"
   ]
  },
  {
   "cell_type": "code",
   "execution_count": 20,
   "id": "ec30869f-645d-4b8a-92fa-c341712df03f",
   "metadata": {},
   "outputs": [
    {
     "data": {
      "text/plain": [
       "array([ 1,  2,  3,  4,  5,  6,  7,  8,  9, 10])"
      ]
     },
     "execution_count": 20,
     "metadata": {},
     "output_type": "execute_result"
    }
   ],
   "source": [
    "arr"
   ]
  },
  {
   "cell_type": "code",
   "execution_count": 22,
   "id": "049779e7-cde2-4fee-8f70-bc2b0d975b2c",
   "metadata": {},
   "outputs": [
    {
     "data": {
      "text/plain": [
       "array([[ 1,  2,  3,  4,  5],\n",
       "       [ 6,  7,  8,  9, 10]])"
      ]
     },
     "execution_count": 22,
     "metadata": {},
     "output_type": "execute_result"
    }
   ],
   "source": [
    "arr1=arr.reshape(2,5)\n",
    "arr1"
   ]
  },
  {
   "cell_type": "code",
   "execution_count": null,
   "id": "151d997b-22c0-4900-8476-d9a5c124b8c8",
   "metadata": {},
   "outputs": [],
   "source": [
    "#2.Create a numpy array containing the numbers from 1 to 20, and then extract the elements between\r",
    "# the 5th and 15th index\n",
    " ."
   ]
  },
  {
   "cell_type": "code",
   "execution_count": 26,
   "id": "49b3dd08-9f64-414f-99c7-cf1033fcc4f1",
   "metadata": {},
   "outputs": [
    {
     "data": {
      "text/plain": [
       "array([ 1,  2,  3,  4,  5,  6,  7,  8,  9, 10, 11, 12, 13, 14, 15, 16, 17,\n",
       "       18, 19, 20])"
      ]
     },
     "execution_count": 26,
     "metadata": {},
     "output_type": "execute_result"
    }
   ],
   "source": [
    "arr2 =np.arange(1,21)\n",
    "arr2"
   ]
  },
  {
   "cell_type": "code",
   "execution_count": 30,
   "id": "d1ba60b4-5a33-4c8d-9d73-0912366d50b7",
   "metadata": {},
   "outputs": [
    {
     "data": {
      "text/plain": [
       "array([ 6,  7,  8,  9, 10, 11, 12, 13, 14, 15])"
      ]
     },
     "execution_count": 30,
     "metadata": {},
     "output_type": "execute_result"
    }
   ],
   "source": [
    "elements = arr2[5:15]\n",
    "elements"
   ]
  },
  {
   "cell_type": "code",
   "execution_count": 32,
   "id": "266f9661-6cb6-4721-baac-8a472ae1cdba",
   "metadata": {},
   "outputs": [],
   "source": [
    "#3.Create a Pandas series with the following data: {'apples': 3, 'bananas': 2, 'oranges': 1}. Then, add a\n",
    "# new item to the series with the key 'pears' and the value 4.\n"
   ]
  },
  {
   "cell_type": "code",
   "execution_count": 1,
   "id": "668f694f-7489-41b1-a95e-1bb96c2eddfe",
   "metadata": {},
   "outputs": [
    {
     "name": "stdout",
     "output_type": "stream",
     "text": [
      "apples     3\n",
      "bananas    2\n",
      "oranges    1\n",
      "pears      4\n",
      "dtype: int64\n"
     ]
    }
   ],
   "source": [
    "import pandas as pd\n",
    "\n",
    "fruit_series = pd.Series({'apples': 3, 'bananas': 2, 'oranges': 1})\n",
    "\n",
    "fruit_series['pears'] = 4\n",
    "print(fruit_series)"
   ]
  },
  {
   "cell_type": "code",
   "execution_count": null,
   "id": "9938c3fb-0746-4cc3-98eb-436910068b87",
   "metadata": {},
   "outputs": [],
   "source": []
  },
  {
   "cell_type": "code",
   "execution_count": null,
   "id": "2fcc0a3a-c97c-4c73-af90-9557b7051b60",
   "metadata": {},
   "outputs": [],
   "source": [
    "# 4.Create a dataframe with the following columns: name, age, and gender. The dataframe should have\n",
    "# 10 rows of data."
   ]
  },
  {
   "cell_type": "code",
   "execution_count": 3,
   "id": "5dfc835c-4d9c-4302-8c0d-940b6e6d75d0",
   "metadata": {},
   "outputs": [
    {
     "name": "stdout",
     "output_type": "stream",
     "text": [
      "      name  age  gender\n",
      "0      Emy   23  Female\n",
      "1     Linz   34    Male\n",
      "2  Christy   45    Male\n",
      "3    David   29    Male\n",
      "4    Evana   31  Female\n",
      "5     John   22    Male\n",
      "6     Ruth   36  Female\n",
      "7   Rebeca   27  Female\n",
      "8    Brown   40    Male\n",
      "9  Jasmine   35  Female\n"
     ]
    }
   ],
   "source": [
    "import pandas as pd\n",
    "details = {\n",
    "     'name': ['Emy', 'Linz', 'Christy', 'David', 'Evana',\n",
    "              'John', 'Ruth', 'Rebeca', 'Brown', 'Jasmine'],\n",
    "     'age': [23, 34, 45, 29, 31,\n",
    "             22, 36, 27, 40, 35],\n",
    "     'gender': ['Female', 'Male', 'Male', 'Male', 'Female',\n",
    "                'Male', 'Female', 'Female', 'Male', 'Female']\n",
    " }\n",
    "\n",
    "df= pd.DataFrame(details)\n",
    "print(df)"
   ]
  },
  {
   "cell_type": "code",
   "execution_count": null,
   "id": "83e16c32-cc3f-4c50-b21c-0701713d4d2d",
   "metadata": {},
   "outputs": [],
   "source": [
    "#5.Add a new column to the data frame created in question 1, called occupation. The values for this\n",
    "#column should be Programmer, Manager, and Analyst, corresponding to the rows in the dataframe."
   ]
  },
  {
   "cell_type": "code",
   "execution_count": 15,
   "id": "936390be-4b75-4d92-a5e2-2ca4662c95b8",
   "metadata": {},
   "outputs": [
    {
     "name": "stdout",
     "output_type": "stream",
     "text": [
      "      name  age  gender  occupation\n",
      "0      Emy   23  Female  Programmer\n",
      "1     Linz   34    Male     Manager\n",
      "2  Christy   45    Male     Analyst\n",
      "3    David   29    Male  Programmer\n",
      "4    Evana   31  Female     Manager\n",
      "5     John   22    Male     Analyst\n",
      "6     Ruth   36  Female  Programmer\n",
      "7   Rebeca   27  Female     Manager\n",
      "8    Brown   40    Male     Analyst\n",
      "9  Jasmine   35  Female  Programmer\n"
     ]
    }
   ],
   "source": [
    "import pandas as pd\n",
    "\n",
    "details = {\n",
    "    'name': ['Emy', 'Linz', 'Christy', 'David', 'Evana',\n",
    "             'John', 'Ruth', 'Rebeca', 'Brown', 'Jasmine'],\n",
    "     'age': [23, 34, 45, 29, 31,  \n",
    "             22, 36, 27, 40, 35],\n",
    "     'gender': ['Female', 'Male', 'Male', 'Male', 'Female',\n",
    "                'Male', 'Female', 'Female', 'Male', 'Female'],\n",
    "     'occupation': ['Programmer', 'Manager', 'Analyst', 'Programmer',\n",
    "                    'Manager', 'Analyst', 'Programmer', 'Manager',\n",
    "                    'Analyst', 'Programmer']\n",
    "   }\n",
    "df1 = pd.DataFrame(details)\n",
    "print(df1)"
   ]
  },
  {
   "cell_type": "code",
   "execution_count": null,
   "id": "ecfc729b-507c-4051-85e5-45543cf8de9d",
   "metadata": {},
   "outputs": [],
   "source": [
    "#6.Select the rows of the dataframe where the age is greater than or equal to 30."
   ]
  },
  {
   "cell_type": "code",
   "execution_count": 17,
   "id": "6d5dae67-e176-429a-88b7-5af29a8e813f",
   "metadata": {},
   "outputs": [
    {
     "name": "stdout",
     "output_type": "stream",
     "text": [
      "      name  age  gender\n",
      "1     Linz   34    Male\n",
      "2  Christy   45    Male\n",
      "4    Evana   31  Female\n",
      "6     Ruth   36  Female\n",
      "8    Brown   40    Male\n",
      "9  Jasmine   35  Female\n"
     ]
    }
   ],
   "source": [
    "filtered_df = df[df1['age'] >= 30]\n",
    "print(filtered_df)\n"
   ]
  },
  {
   "cell_type": "code",
   "execution_count": null,
   "id": "c0ee5eb7-8cd9-4ca2-8fc3-f5ca294009fb",
   "metadata": {},
   "outputs": [],
   "source": [
    "#7.Convert this dataframe to a csv file and read that csv file, finally display the contents"
   ]
  },
  {
   "cell_type": "code",
   "execution_count": 37,
   "id": "0415c875-3983-43dc-86f8-31d61af6056f",
   "metadata": {},
   "outputs": [],
   "source": [
    "\n",
    "import pandas as pd\n",
    "df1 = pd.DataFrame(details)\n",
    "\n",
    "csv_file_path = 'details.csv'#converting the DataFrame to csv file\n",
    "df.to_csv(csv_file_path, index=False)"
   ]
  },
  {
   "cell_type": "code",
   "execution_count": 39,
   "id": "fc2f160c-36d9-4099-85ef-a2dc5b1bb59d",
   "metadata": {},
   "outputs": [
    {
     "name": "stdout",
     "output_type": "stream",
     "text": [
      "      name  age  gender\n",
      "0      Emy   23  Female\n",
      "1     Linz   34    Male\n",
      "2  Christy   45    Male\n",
      "3    David   29    Male\n",
      "4    Evana   31  Female\n",
      "5     John   22    Male\n",
      "6     Ruth   36  Female\n",
      "7   Rebeca   27  Female\n",
      "8    Brown   40    Male\n",
      "9  Jasmine   35  Female\n"
     ]
    }
   ],
   "source": [
    "df_read = pd.read_csv( csv_file_path)   #\"C:\\Users\\sgkur\\details.csv\"\n",
    "print(df_read)"
   ]
  },
  {
   "cell_type": "code",
   "execution_count": null,
   "id": "205133f6-592d-4eec-8185-3892aec4b99b",
   "metadata": {},
   "outputs": [],
   "source": []
  }
 ],
 "metadata": {
  "kernelspec": {
   "display_name": "Python 3 (ipykernel)",
   "language": "python",
   "name": "python3"
  },
  "language_info": {
   "codemirror_mode": {
    "name": "ipython",
    "version": 3
   },
   "file_extension": ".py",
   "mimetype": "text/x-python",
   "name": "python",
   "nbconvert_exporter": "python",
   "pygments_lexer": "ipython3",
   "version": "3.12.4"
  }
 },
 "nbformat": 4,
 "nbformat_minor": 5
}
